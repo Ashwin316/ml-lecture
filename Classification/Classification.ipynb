{
 "cells": [
  {
   "cell_type": "code",
   "execution_count": null,
   "metadata": {
    "collapsed": false,
    "nbpresent": {
     "id": "f2b1109e-063f-4cb6-980b-5e2a260ac377"
    }
   },
   "outputs": [],
   "source": [
    "# Dataset Link => https://archive.ics.uci.edu/ml/datasets/Car+Evaluation\n",
    "# Dataset => https://archive.ics.uci.edu/ml/machine-learning-databases/car/car.data\n",
    "\n",
    "# Step 1 => Get the dataset and load it into a pandas dataframe\n",
    "import pandas as pd\n",
    "data = pd.read_csv(\"https://archive.ics.uci.edu/ml/machine-learning-databases/car/car.data\", names = ['buying','maint','doors','persons','lug_boot','safety','acceptability'])\n",
    "# Take a look at what the data looks like\n",
    "print data"
   ]
  },
  {
   "cell_type": "code",
   "execution_count": null,
   "metadata": {
    "collapsed": false,
    "nbpresent": {
     "id": "82f2573c-7b0e-4317-9962-b66dd2268669"
    }
   },
   "outputs": [],
   "source": [
    "# Step 2 => Create a feature set from the data and encode strings\n",
    "features = pd.get_dummies(data[['buying', 'maint', 'lug_boot', 'safety', 'doors', 'persons']])\n",
    "labels = pd.get_dummies(data['acceptability'])\n",
    "# What do features and labels look like?\n",
    "print 'Features =>\\n', features\n",
    "print 'Labels =>\\n', labels"
   ]
  },
  {
   "cell_type": "code",
   "execution_count": null,
   "metadata": {
    "collapsed": false,
    "nbpresent": {
     "id": "9402e2c5-b7ab-4464-a366-448bbe0045e9"
    }
   },
   "outputs": [],
   "source": [
    "# Step 3 => Separate into testing and training sets\n",
    "from sklearn.cross_validation import train_test_split\n",
    "features_train, features_test, labels_train, labels_test = train_test_split(features, labels, test_size = 0.3)\n",
    "\n",
    "# Verify that the dataset has been split into 2 sets in the appropriate proportion\n",
    "print len(features_train)\n",
    "print len(features_test)"
   ]
  },
  {
   "cell_type": "code",
   "execution_count": null,
   "metadata": {
    "collapsed": false,
    "nbpresent": {
     "id": "f53b0d51-1ff8-4b35-bcd2-daa40354be69"
    }
   },
   "outputs": [],
   "source": [
    "# Step 4 => Let's classify using DecisionTrees\n",
    "from sklearn.tree import DecisionTreeClassifier\n",
    "# Create the classifier\n",
    "dtc = DecisionTreeClassifier()\n",
    "# Generate a model by fitting to the training data\n",
    "dtc.fit(features_train, labels_train)\n",
    "# Predict the acceptability on the test data\n",
    "predictions = dtc.predict(features_test)\n",
    "# Get the statistics(precision, recall, F1, accuracy) for the statistics\n",
    "print 'Accuracy = ', dtc.score(features_test, labels_test)\n",
    "from sklearn.metrics import classification_report\n",
    "print classification_report(labels_test, predictions, target_names = ['Acceptable', 'Good', 'Unacceptable', 'Very Good'])"
   ]
  }
 ],
 "metadata": {
  "kernelspec": {
   "display_name": "Python [Root]",
   "language": "python",
   "name": "Python [Root]"
  },
  "language_info": {
   "codemirror_mode": {
    "name": "ipython",
    "version": 2
   },
   "file_extension": ".py",
   "mimetype": "text/x-python",
   "name": "python",
   "nbconvert_exporter": "python",
   "pygments_lexer": "ipython2",
   "version": "2.7.12"
  }
 },
 "nbformat": 4,
 "nbformat_minor": 1
}
